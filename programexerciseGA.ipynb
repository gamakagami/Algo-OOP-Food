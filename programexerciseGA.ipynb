{
 "cells": [
  {
   "cell_type": "code",
   "execution_count": null,
   "metadata": {},
   "outputs": [],
   "source": [
    "class programExerciesGA:\n",
    "    def __init__(self, food=\"\", pounds=0):\n",
    "        self.foodName = food\n",
    "        self.amountOfFood = pounds\n",
    "        self.standardPrice = 0\n",
    "        self.__PriceListGA()\n",
    "        self.calculatedPrice = self.costCalculationGA()\n",
    "\n",
    "    def pricelistGA(self):\n",
    "        if self.foodname==\"Dry Cured Iberian Ham\":\n",
    "            self.standardprice=177.80\n",
    "        else:\n",
    "            if self.foodname==\"Wagyu Steaks\":\n",
    "                self.standardprice=450.00\n",
    "            else:\n",
    "                if self.foodname==\"Matsutake Mushrooms\":\n",
    "                    self.standardprice=272.00\n",
    "                else:\n",
    "                    if self.foodname==\"Kopi Luwak Coffee\":\n",
    "                        self.standardprice=306.50\n",
    "                    else:\n",
    "                        if self.foodname==\"Moose Cheese\":\n",
    "                            self.standardprice=487.20\n",
    "                        else:\n",
    "                            if self.foodname==\"White Truffles\":\n",
    "                                self.standardprice=3600.00\n",
    "                            else:        \n",
    "                                if self.foodname==\"Blue Fin Tuna\":\n",
    "                                    self.standardprice=3603.00\n",
    "                                else:\n",
    "                                    if self.foodname==\"Le Bonnotte Potatoes\":\n",
    "                                        self.standardprice=270.81\n",
    "    def costCalculationGA(self):\n",
    "        return self.standardPrice * self.amountOfFood\n"
   ]
  }
 ],
 "metadata": {
  "kernelspec": {
   "display_name": "Python 3",
   "language": "python",
   "name": "python3"
  },
  "language_info": {
   "name": "python",
   "version": "3.12.0"
  }
 },
 "nbformat": 4,
 "nbformat_minor": 2
}
